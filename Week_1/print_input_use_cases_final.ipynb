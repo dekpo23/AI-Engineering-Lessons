{
 "cells": [
  {
   "cell_type": "markdown",
   "id": "30a4cb25",
   "metadata": {},
   "source": [
    "\n",
    "# Using `print()` and `input()` in Python\n",
    "\n",
    "This notebook demonstrates different use cases of the `print()` and `input()` functions in Python.\n",
    "\n",
    "- `print()` is used to display output to the user.\n",
    "- `input()` is used to take input from the user.\n"
   ]
  },
  {
   "cell_type": "code",
   "execution_count": null,
   "id": "de1b7a92",
   "metadata": {},
   "outputs": [
    {
     "name": "stdout",
     "output_type": "stream",
     "text": [
      "Hello, world!\n",
      "Welcome to Python programming.\n"
     ]
    }
   ],
   "source": [
    "\n",
    "# Basic usage of print()\n",
    "print(\"Hello, world!\")\n",
    "print(\"Welcome to Python programming.\")\n"
   ]
  },
  {
   "cell_type": "code",
   "execution_count": null,
   "id": "7aa08e98",
   "metadata": {},
   "outputs": [
    {
     "name": "stdout",
     "output_type": "stream",
     "text": [
      "Name: Aisha\n",
      "Age: 25\n"
     ]
    }
   ],
   "source": [
    "\n",
    "# Using print() with variables\n",
    "name = \"Aisha\"\n",
    "age = 25\n",
    "print(\"Name:\", name)\n",
    "print(\"Age:\", age)"
   ]
  },
  {
   "cell_type": "code",
   "execution_count": 3,
   "id": "21aff2c4",
   "metadata": {},
   "outputs": [
    {
     "name": "stdout",
     "output_type": "stream",
     "text": [
      "Bola scored 92 in the exam.\n"
     ]
    }
   ],
   "source": [
    "\n",
    "# Using f-strings with print()\n",
    "name = \"Bola\"\n",
    "score = 92\n",
    "print(f\"{name} scored {score} in the exam.\")\n"
   ]
  },
  {
   "cell_type": "code",
   "execution_count": 4,
   "id": "7f86bbb1",
   "metadata": {},
   "outputs": [
    {
     "name": "stdout",
     "output_type": "stream",
     "text": [
      "Full name: Ada Lovelace\n"
     ]
    }
   ],
   "source": [
    "\n",
    "# Using string concatenation\n",
    "first_name = \"Ada\"\n",
    "last_name = \"Lovelace\"\n",
    "print(\"Full name: \" + first_name + \" \" + last_name)"
   ]
  },
  {
   "cell_type": "code",
   "execution_count": 5,
   "id": "13a0a036",
   "metadata": {},
   "outputs": [
    {
     "name": "stdout",
     "output_type": "stream",
     "text": [
      "Hello world!\n",
      "Hello world!\n"
     ]
    }
   ],
   "source": [
    "\n",
    "# Comma vs concatenation\n",
    "print(\"Hello\", \"world!\")       # With comma\n",
    "print(\"Hello\" + \" \" + \"world!\")  # With concatenation"
   ]
  },
  {
   "cell_type": "code",
   "execution_count": 6,
   "id": "5fcb449a",
   "metadata": {},
   "outputs": [
    {
     "name": "stdout",
     "output_type": "stream",
     "text": [
      "Line1\n",
      "Line2\n",
      "Item1\tItem2\n",
      "He said, \"Hello\"\n",
      "It's Python!\n"
     ]
    }
   ],
   "source": [
    "\n",
    "# Escape sequences in print - \"\\n\", \"\\t\"\n",
    "print(\"Line1\\nLine2\")              # New line\n",
    "print(\"Item1\\tItem2\")              # Tab space\n",
    "print(\"He said, \\\"Hello\\\"\")        # Quoted string\n",
    "print('It\\'s Python!')             # Apostrophe in single quote"
   ]
  },
  {
   "cell_type": "code",
   "execution_count": 7,
   "id": "c4d84681",
   "metadata": {},
   "outputs": [
    {
     "name": "stdout",
     "output_type": "stream",
     "text": [
      "Welcome to Python\n",
      "Let's learn together!\n"
     ]
    }
   ],
   "source": [
    "# Newline (\\n)\n",
    "print(\"Welcome to Python\\nLet's learn together!\")"
   ]
  },
  {
   "cell_type": "code",
   "execution_count": 8,
   "id": "43351a3a",
   "metadata": {},
   "outputs": [
    {
     "name": "stdout",
     "output_type": "stream",
     "text": [
      "Name\tAge\tLocation\n",
      "Aisha\t25\tLagos\n"
     ]
    }
   ],
   "source": [
    "\n",
    "# Tab (\\t)\n",
    "print(\"Name\\tAge\\tLocation\")\n",
    "print(\"Aisha\\t25\\tLagos\")"
   ]
  },
  {
   "cell_type": "code",
   "execution_count": 9,
   "id": "0c1e9fa5",
   "metadata": {},
   "outputs": [
    {
     "name": "stdout",
     "output_type": "stream",
     "text": [
      "She said, \"Hello there!\"\n",
      "It's a sunny day.\n"
     ]
    }
   ],
   "source": [
    "# Quotes inside string\n",
    "print(\"She said, \\\"Hello there!\\\"\")\n",
    "print('It\\'s a sunny day.')\n"
   ]
  },
  {
   "cell_type": "code",
   "execution_count": 10,
   "id": "da0edb1a",
   "metadata": {},
   "outputs": [
    {
     "name": "stdout",
     "output_type": "stream",
     "text": [
      "File path: C:\\Users\\Aisha\\Documents\n"
     ]
    }
   ],
   "source": [
    "# Backslash\n",
    "print(\"File path: C:\\\\Users\\\\Aisha\\\\Documents\")"
   ]
  },
  {
   "cell_type": "code",
   "execution_count": 11,
   "id": "430ed7ce",
   "metadata": {},
   "outputs": [
    {
     "name": "stdout",
     "output_type": "stream",
     "text": [
      "ABC456\n"
     ]
    }
   ],
   "source": [
    "# Carriage return (\\r)\n",
    "print(\"123456\\rABC\")  # Output: ABC456 (replaces 123)"
   ]
  },
  {
   "cell_type": "code",
   "execution_count": 12,
   "id": "8ff7649e",
   "metadata": {},
   "outputs": [
    {
     "name": "stdout",
     "output_type": "stream",
     "text": [
      "Hello\n"
     ]
    }
   ],
   "source": [
    "# Backspace (\\b)\n",
    "print(\"Helloo\\b\")  # Output: Hello"
   ]
  },
  {
   "cell_type": "code",
   "execution_count": 13,
   "id": "b2f34f44",
   "metadata": {},
   "outputs": [
    {
     "name": "stdout",
     "output_type": "stream",
     "text": [
      "\u0007\n"
     ]
    }
   ],
   "source": [
    "# Bell/alert (may or may not beep depending on environment)\n",
    "print(\"\\a\")  # Triggers a bell sound (if supported)\n"
   ]
  },
  {
   "cell_type": "markdown",
   "id": "1a85cd38",
   "metadata": {},
   "source": [
    "| Escape Sequence  | Meaning               | Example                           | Output                           |\n",
    "|------------------|----------------------|------------------------------------|----------------------------------|\n",
    "| `\\n`             | New line             | `print(\"Hello\\nWorld\")`            | Hello <br> World                 |\n",
    "| `\\t`             | Horizontal tab       | `print(\"Name\\tAge\")`               | Name  Age                        |\n",
    "| `\\\"`             | Double quote         | `print(\"She said, \\\"Hi!\\\"\")`       | She said, \"Hi!\"                  |\n",
    "| `\\'`             | Single quote         | `print('It\\'s okay')`              | It's okay                        |\n",
    "| `\\\\`             | Backslash            | `print(\"C:\\\\\\\\Users\")`             | C:\\Users                         |\n",
    "| `\\r`             | Carriage return      | `print(\"123\\rABC\")`                | ABC (overwrites 123)             |\n",
    "| `\\b`             | Backspace            | `print(\"Helloo\\b\")`                | Hello                            |\n",
    "| `\\a`             | Bell (alert sound)   | `print(\"\\a\")`                      | (May trigger beep sound)         |\n",
    "| `\\f`             | Form feed            | `print(\"Hello\\fWorld\")`            | Hello\fWorld                     |\n",
    "| `\\v`             | Vertical tab         | `print(\"Hello\\vWorld\")`            | Hello\u000bWorld                     |\n"
   ]
  },
  {
   "cell_type": "code",
   "execution_count": 14,
   "id": "edb8ba5a",
   "metadata": {},
   "outputs": [
    {
     "name": "stdout",
     "output_type": "stream",
     "text": [
      "Python - is - fun\n",
      "This is the first line. This is the second line.\n"
     ]
    }
   ],
   "source": [
    "# Using sep and end in print\n",
    "print(\"Python\", \"is\", \"fun\", sep=\" - \")\n",
    "print(\"This is the first line.\", end=\" \")\n",
    "print(\"This is the second line.\")\n"
   ]
  },
  {
   "cell_type": "markdown",
   "id": "5ff9def3",
   "metadata": {},
   "source": [
    "**Class Task** "
   ]
  },
  {
   "cell_type": "markdown",
   "id": "00749bd0",
   "metadata": {},
   "source": [
    "***Task1**\n",
    "-  Write a Python program that prints the following information on separate lines:\n",
    "\n",
    " - Your full name\n",
    "\n",
    "  - Your uni\n",
    "\n",
    " - Your local government area\n",
    "\n",
    " - Your favorite Nigerian food"
   ]
  },
  {
   "cell_type": "markdown",
   "id": "e50d6e73",
   "metadata": {},
   "source": [
    "***Task2**\n",
    "- Write a Python program that stores your name and state of origin in variables, and prints a message like"
   ]
  },
  {
   "cell_type": "markdown",
   "id": "a00fa8c9",
   "metadata": {},
   "source": [
    "**Task3**\n",
    "- Print a simple timetable for a day in a Nigerian secondary school using tab spacing and newlines."
   ]
  },
  {
   "cell_type": "markdown",
   "id": "25e908bb",
   "metadata": {},
   "source": [
    "**Task4**\n",
    "- Write a Python program that uses variables to store:\n",
    "\n",
    "    - Your name\n",
    "\n",
    "   - Your class\n",
    "\n",
    "   - Your best subject\n",
    "\n",
    "- Then use an f-string to format and print them in a sentence."
   ]
  },
  {
   "cell_type": "markdown",
   "id": "ee4dbd69",
   "metadata": {},
   "source": [
    "**Task5**\n",
    "Write a short 3-line poem about Nigeria and print it using triple quotes (\"\"\" \"\"\")."
   ]
  },
  {
   "cell_type": "markdown",
   "id": "22245ca6",
   "metadata": {},
   "source": [
    "#### Getting Started With input() Statement"
   ]
  },
  {
   "cell_type": "code",
   "execution_count": 15,
   "id": "54ee6347",
   "metadata": {},
   "outputs": [
    {
     "name": "stdout",
     "output_type": "stream",
     "text": [
      "Hello, \n"
     ]
    }
   ],
   "source": [
    "\n",
    "# Basic usage of input()\n",
    "name = input(\"Enter your name: \")\n",
    "print(\"Hello,\", name)\n"
   ]
  },
  {
   "cell_type": "code",
   "execution_count": 16,
   "id": "f7db3a93",
   "metadata": {},
   "outputs": [
    {
     "ename": "ValueError",
     "evalue": "invalid literal for int() with base 10: ''",
     "output_type": "error",
     "traceback": [
      "\u001b[31m---------------------------------------------------------------------------\u001b[39m",
      "\u001b[31mValueError\u001b[39m                                Traceback (most recent call last)",
      "\u001b[36mCell\u001b[39m\u001b[36m \u001b[39m\u001b[32mIn[16]\u001b[39m\u001b[32m, line 2\u001b[39m\n\u001b[32m      1\u001b[39m \u001b[38;5;66;03m# Convert input to integer\u001b[39;00m\n\u001b[32m----> \u001b[39m\u001b[32m2\u001b[39m age = \u001b[38;5;28;43mint\u001b[39;49m\u001b[43m(\u001b[49m\u001b[38;5;28;43minput\u001b[39;49m\u001b[43m(\u001b[49m\u001b[33;43m\"\u001b[39;49m\u001b[33;43mEnter your age: \u001b[39;49m\u001b[33;43m\"\u001b[39;49m\u001b[43m)\u001b[49m\u001b[43m)\u001b[49m\n\u001b[32m      3\u001b[39m \u001b[38;5;28mprint\u001b[39m(\u001b[33mf\u001b[39m\u001b[33m\"\u001b[39m\u001b[33mYou will be \u001b[39m\u001b[38;5;132;01m{\u001b[39;00mage\u001b[38;5;250m \u001b[39m+\u001b[38;5;250m \u001b[39m\u001b[32m1\u001b[39m\u001b[38;5;132;01m}\u001b[39;00m\u001b[33m years old next year.\u001b[39m\u001b[33m\"\u001b[39m)\n",
      "\u001b[31mValueError\u001b[39m: invalid literal for int() with base 10: ''"
     ]
    }
   ],
   "source": [
    "\n",
    "# Convert input to integer\n",
    "age = int(input(\"Enter your age: \"))\n",
    "print(f\"You will be {age + 1} years old next year.\")\n"
   ]
  },
  {
   "cell_type": "code",
   "execution_count": null,
   "id": "1a2dc513",
   "metadata": {},
   "outputs": [],
   "source": [
    "\n",
    "# Calculator using input\n",
    "num1 = float(input(\"Enter first number: \"))\n",
    "num2 = float(input(\"Enter second number: \"))\n",
    "sum_result = num1 + num2\n",
    "print(f\"The sum of {num1} and {num2} is {sum_result}.\")\n"
   ]
  },
  {
   "cell_type": "code",
   "execution_count": null,
   "id": "28276713",
   "metadata": {},
   "outputs": [],
   "source": []
  }
 ],
 "metadata": {
  "kernelspec": {
   "display_name": "Python 3",
   "language": "python",
   "name": "python3"
  },
  "language_info": {
   "codemirror_mode": {
    "name": "ipython",
    "version": 3
   },
   "file_extension": ".py",
   "mimetype": "text/x-python",
   "name": "python",
   "nbconvert_exporter": "python",
   "pygments_lexer": "ipython3",
   "version": "3.13.5"
  }
 },
 "nbformat": 4,
 "nbformat_minor": 5
}
